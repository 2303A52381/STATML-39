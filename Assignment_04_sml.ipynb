{
  "nbformat": 4,
  "nbformat_minor": 0,
  "metadata": {
    "colab": {
      "provenance": [],
      "authorship_tag": "ABX9TyOv6G+LGyjpgUpKXLJGhe3N",
      "include_colab_link": true
    },
    "kernelspec": {
      "name": "python3",
      "display_name": "Python 3"
    },
    "language_info": {
      "name": "python"
    }
  },
  "cells": [
    {
      "cell_type": "markdown",
      "metadata": {
        "id": "view-in-github",
        "colab_type": "text"
      },
      "source": [
        "<a href=\"https://colab.research.google.com/github/2303A52381/STATML-39/blob/main/Assignment_04_sml.ipynb\" target=\"_parent\"><img src=\"https://colab.research.google.com/assets/colab-badge.svg\" alt=\"Open In Colab\"/></a>"
      ]
    },
    {
      "cell_type": "code",
      "execution_count": 1,
      "metadata": {
        "id": "4jfCj9GpaWpH"
      },
      "outputs": [],
      "source": [
        "import pandas as pd\n",
        "from sklearn.preprocessing import MinMaxScaler\n",
        "from sklearn.model_selection import train_test_split\n",
        "\n",
        "# Load the dataset\n",
        "data = pd.read_csv('train.csv')\n",
        "\n",
        "# Features and target\n",
        "X = data.drop('price_range', axis=1)\n",
        "y = data['price_range']\n",
        "\n",
        "# Normalize the data using MinMaxScaler\n",
        "scaler = MinMaxScaler()\n",
        "X_scaled = scaler.fit_transform(X)\n",
        "\n",
        "# Split the data into train and test sets\n",
        "X_train, X_test, y_train, y_test = train_test_split(X_scaled, y, test_size=0.2, random_state=42)\n"
      ]
    },
    {
      "cell_type": "code",
      "source": [
        "import pandas as pd\n",
        "from sklearn.preprocessing import MinMaxScaler\n",
        "from sklearn.model_selection import train_test_split\n",
        "\n",
        "data = pd.read_csv('train.csv')\n",
        "X = data.drop('price_range', axis=1)\n",
        "y = data['price_range']\n",
        "scaler = MinMaxScaler()\n",
        "X_scaled = scaler.fit_transform(X)\n",
        "X_train, X_test, y_train, y_test = train_test_split(X_scaled, y, test_size=0.2, random_state=42)\n",
        "\n",
        "print(X_train.shape)\n",
        "print(X_test.shape)\n",
        "print(y_train.shape)\n",
        "print(y_test.shape)\n"
      ],
      "metadata": {
        "colab": {
          "base_uri": "https://localhost:8080/"
        },
        "id": "0keN0YdYatGL",
        "outputId": "a676b5d9-ece3-4e4a-9992-ebe392619737"
      },
      "execution_count": 2,
      "outputs": [
        {
          "output_type": "stream",
          "name": "stdout",
          "text": [
            "(1600, 20)\n",
            "(400, 20)\n",
            "(1600,)\n",
            "(400,)\n"
          ]
        }
      ]
    },
    {
      "cell_type": "code",
      "source": [
        "import pandas as pd\n",
        "from sklearn.preprocessing import MinMaxScaler\n",
        "from sklearn.model_selection import train_test_split\n",
        "\n",
        "data = pd.read_csv('train.csv')\n",
        "\n",
        "print(data.describe())\n",
        "print(data.dtypes)\n",
        "print(data.shape)\n",
        "\n",
        "X = data.drop('price_range', axis=1)\n",
        "y = data['price_range']\n",
        "\n",
        "print(X.isnull().sum())\n",
        "\n",
        "X.fillna(0, inplace=True)\n",
        "\n",
        "scaler = MinMaxScaler()\n",
        "X_scaled = scaler.fit_transform(X)\n",
        "\n",
        "X_train, X_test, y_train, y_test = train_test_split(X_scaled, y, test_size=0.2, random_state=42)\n"
      ],
      "metadata": {
        "colab": {
          "base_uri": "https://localhost:8080/"
        },
        "id": "G7HF5gaebCaG",
        "outputId": "85880944-f76f-43a7-adf9-2740b663ab3f"
      },
      "execution_count": 6,
      "outputs": [
        {
          "output_type": "stream",
          "name": "stdout",
          "text": [
            "       battery_power       blue  clock_speed     dual_sim           fc  \\\n",
            "count    2000.000000  2000.0000  2000.000000  2000.000000  2000.000000   \n",
            "mean     1238.518500     0.4950     1.522250     0.509500     4.309500   \n",
            "std       439.418206     0.5001     0.816004     0.500035     4.341444   \n",
            "min       501.000000     0.0000     0.500000     0.000000     0.000000   \n",
            "25%       851.750000     0.0000     0.700000     0.000000     1.000000   \n",
            "50%      1226.000000     0.0000     1.500000     1.000000     3.000000   \n",
            "75%      1615.250000     1.0000     2.200000     1.000000     7.000000   \n",
            "max      1998.000000     1.0000     3.000000     1.000000    19.000000   \n",
            "\n",
            "            four_g   int_memory        m_dep    mobile_wt      n_cores  ...  \\\n",
            "count  2000.000000  2000.000000  2000.000000  2000.000000  2000.000000  ...   \n",
            "mean      0.521500    32.046500     0.501750   140.249000     4.520500  ...   \n",
            "std       0.499662    18.145715     0.288416    35.399655     2.287837  ...   \n",
            "min       0.000000     2.000000     0.100000    80.000000     1.000000  ...   \n",
            "25%       0.000000    16.000000     0.200000   109.000000     3.000000  ...   \n",
            "50%       1.000000    32.000000     0.500000   141.000000     4.000000  ...   \n",
            "75%       1.000000    48.000000     0.800000   170.000000     7.000000  ...   \n",
            "max       1.000000    64.000000     1.000000   200.000000     8.000000  ...   \n",
            "\n",
            "         px_height     px_width          ram         sc_h         sc_w  \\\n",
            "count  2000.000000  2000.000000  2000.000000  2000.000000  2000.000000   \n",
            "mean    645.108000  1251.515500  2124.213000    12.306500     5.767000   \n",
            "std     443.780811   432.199447  1084.732044     4.213245     4.356398   \n",
            "min       0.000000   500.000000   256.000000     5.000000     0.000000   \n",
            "25%     282.750000   874.750000  1207.500000     9.000000     2.000000   \n",
            "50%     564.000000  1247.000000  2146.500000    12.000000     5.000000   \n",
            "75%     947.250000  1633.000000  3064.500000    16.000000     9.000000   \n",
            "max    1960.000000  1998.000000  3998.000000    19.000000    18.000000   \n",
            "\n",
            "         talk_time      three_g  touch_screen         wifi  price_range  \n",
            "count  2000.000000  2000.000000   2000.000000  2000.000000  2000.000000  \n",
            "mean     11.011000     0.761500      0.503000     0.507000     1.500000  \n",
            "std       5.463955     0.426273      0.500116     0.500076     1.118314  \n",
            "min       2.000000     0.000000      0.000000     0.000000     0.000000  \n",
            "25%       6.000000     1.000000      0.000000     0.000000     0.750000  \n",
            "50%      11.000000     1.000000      1.000000     1.000000     1.500000  \n",
            "75%      16.000000     1.000000      1.000000     1.000000     2.250000  \n",
            "max      20.000000     1.000000      1.000000     1.000000     3.000000  \n",
            "\n",
            "[8 rows x 21 columns]\n",
            "battery_power      int64\n",
            "blue               int64\n",
            "clock_speed      float64\n",
            "dual_sim           int64\n",
            "fc                 int64\n",
            "four_g             int64\n",
            "int_memory         int64\n",
            "m_dep            float64\n",
            "mobile_wt          int64\n",
            "n_cores            int64\n",
            "pc                 int64\n",
            "px_height          int64\n",
            "px_width           int64\n",
            "ram                int64\n",
            "sc_h               int64\n",
            "sc_w               int64\n",
            "talk_time          int64\n",
            "three_g            int64\n",
            "touch_screen       int64\n",
            "wifi               int64\n",
            "price_range        int64\n",
            "dtype: object\n",
            "(2000, 21)\n",
            "battery_power    0\n",
            "blue             0\n",
            "clock_speed      0\n",
            "dual_sim         0\n",
            "fc               0\n",
            "four_g           0\n",
            "int_memory       0\n",
            "m_dep            0\n",
            "mobile_wt        0\n",
            "n_cores          0\n",
            "pc               0\n",
            "px_height        0\n",
            "px_width         0\n",
            "ram              0\n",
            "sc_h             0\n",
            "sc_w             0\n",
            "talk_time        0\n",
            "three_g          0\n",
            "touch_screen     0\n",
            "wifi             0\n",
            "dtype: int64\n"
          ]
        }
      ]
    }
  ]
}