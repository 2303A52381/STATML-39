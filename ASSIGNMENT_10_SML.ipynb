{
  "nbformat": 4,
  "nbformat_minor": 0,
  "metadata": {
    "colab": {
      "provenance": [],
      "authorship_tag": "ABX9TyNLlYMI7yyeUlFbfRFmHeOa",
      "include_colab_link": true
    },
    "kernelspec": {
      "name": "python3",
      "display_name": "Python 3"
    },
    "language_info": {
      "name": "python"
    }
  },
  "cells": [
    {
      "cell_type": "markdown",
      "metadata": {
        "id": "view-in-github",
        "colab_type": "text"
      },
      "source": [
        "<a href=\"https://colab.research.google.com/github/2303A52381/STATML-39/blob/main/ASSIGNMENT_10_SML.ipynb\" target=\"_parent\"><img src=\"https://colab.research.google.com/assets/colab-badge.svg\" alt=\"Open In Colab\"/></a>"
      ]
    },
    {
      "cell_type": "code",
      "source": [
        "import pandas as pd\n",
        "from sklearn.model_selection import train_test_split\n",
        "from sklearn.neighbors import KNeighborsClassifier\n",
        "from sklearn.metrics import accuracy_score\n",
        "from sklearn.preprocessing import LabelEncoder\n",
        "\n",
        "# Load dataset\n",
        "data = pd.read_csv(\"increasing_breast_cancer_awareness.csv\")\n",
        "\n",
        "# Automatically handle categorical data by encoding them\n",
        "data = data.apply(LabelEncoder().fit_transform)  # Encode all categorical columns\n",
        "\n",
        "# Identify the target column (assume it's the last column)\n",
        "X = data.iloc[:, :-1]  # Features (all columns except the last)\n",
        "y = data.iloc[:, -1]   # Target (last column)\n",
        "\n",
        "# Split data and train KNN with different test sizes\n",
        "for test_size in [0.2, 0.3, 0.4, 0.5]:\n",
        "    X_train, X_test, y_train, y_test = train_test_split(X, y, test_size=test_size, random_state=42)\n",
        "    knn = KNeighborsClassifier()\n",
        "    knn.fit(X_train, y_train)\n",
        "    accuracy = accuracy_score(y_test, knn.predict(X_test))\n",
        "    print(f\"Test size: {test_size}, Accuracy: {accuracy}\")\n"
      ],
      "metadata": {
        "colab": {
          "base_uri": "https://localhost:8080/"
        },
        "id": "fKPLaLF1E8mZ",
        "outputId": "26de25fd-57d7-4603-9764-ecdaab2abc73"
      },
      "execution_count": 12,
      "outputs": [
        {
          "output_type": "stream",
          "name": "stdout",
          "text": [
            "Test size: 0.2, Accuracy: 0.7164179104477612\n",
            "Test size: 0.3, Accuracy: 0.7227722772277227\n",
            "Test size: 0.4, Accuracy: 0.7014925373134329\n",
            "Test size: 0.5, Accuracy: 0.7245508982035929\n"
          ]
        }
      ]
    },
    {
      "cell_type": "code",
      "source": [
        "import pandas as pd\n",
        "from sklearn.model_selection import train_test_split\n",
        "from sklearn.svm import SVC\n",
        "from sklearn.metrics import accuracy_score\n",
        "from sklearn.preprocessing import LabelEncoder\n",
        "\n",
        "# Load dataset\n",
        "data = pd.read_csv(\"increasing_breast_cancer_awareness.csv\")\n",
        "\n",
        "# Encode categorical variables\n",
        "data = data.apply(LabelEncoder().fit_transform)\n",
        "\n",
        "# Define features and target\n",
        "X = data.iloc[:, :-1]\n",
        "y = data.iloc[:, -1]\n",
        "\n",
        "# Train SVM with different test sizes\n",
        "for test_size in [0.2, 0.25, 0.3, 0.35]:\n",
        "    X_train, X_test, y_train, y_test = train_test_split(X, y, test_size=test_size, random_state=42)\n",
        "    svm = SVC()\n",
        "    svm.fit(X_train, y_train)\n",
        "    accuracy = accuracy_score(y_test, svm.predict(X_test))\n",
        "    print(f\"Test size: {test_size}, Accuracy: {accuracy}\")\n"
      ],
      "metadata": {
        "colab": {
          "base_uri": "https://localhost:8080/"
        },
        "id": "TwdRKQYCFEYK",
        "outputId": "922e95fb-e1cd-41ff-cabb-376d559b6b32"
      },
      "execution_count": 14,
      "outputs": [
        {
          "output_type": "stream",
          "name": "stdout",
          "text": [
            "Test size: 0.2, Accuracy: 0.7761194029850746\n",
            "Test size: 0.25, Accuracy: 0.7738095238095238\n",
            "Test size: 0.3, Accuracy: 0.7821782178217822\n",
            "Test size: 0.35, Accuracy: 0.7863247863247863\n"
          ]
        }
      ]
    }
  ]
}