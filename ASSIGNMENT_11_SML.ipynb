{
  "nbformat": 4,
  "nbformat_minor": 0,
  "metadata": {
    "colab": {
      "provenance": [],
      "authorship_tag": "ABX9TyMa9pti2Iru8u4FdzFoG5nS",
      "include_colab_link": true
    },
    "kernelspec": {
      "name": "python3",
      "display_name": "Python 3"
    },
    "language_info": {
      "name": "python"
    }
  },
  "cells": [
    {
      "cell_type": "markdown",
      "metadata": {
        "id": "view-in-github",
        "colab_type": "text"
      },
      "source": [
        "<a href=\"https://colab.research.google.com/github/2303A52381/STATML-39/blob/main/ASSIGNMENT_11_SML.ipynb\" target=\"_parent\"><img src=\"https://colab.research.google.com/assets/colab-badge.svg\" alt=\"Open In Colab\"/></a>"
      ]
    },
    {
      "cell_type": "code",
      "source": [
        "import pandas as pd\n",
        "from sklearn.model_selection import train_test_split\n",
        "from sklearn.svm import SVC\n",
        "from sklearn.neighbors import KNeighborsClassifier\n",
        "from sklearn.linear_model import LogisticRegression\n",
        "from sklearn.metrics import accuracy_score\n",
        "from sklearn.preprocessing import LabelEncoder\n",
        "from sklearn.decomposition import PCA\n",
        "\n",
        "# Load dataset\n",
        "data = pd.read_csv(\"increasing_breast_cancer_awareness.csv\")\n",
        "\n",
        "# Encode categorical variables\n",
        "data = data.apply(LabelEncoder().fit_transform)\n",
        "\n",
        "# Define features (X) and target (y)\n",
        "X = data.iloc[:, :-1]\n",
        "y = data.iloc[:, -1]\n",
        "\n",
        "# Split the data into training and testing sets\n",
        "X_train, X_test, y_train, y_test = train_test_split(X, y, test_size=0.3, random_state=42)\n",
        "\n",
        "# Train and evaluate models without PCA\n",
        "models = [SVC(), KNeighborsClassifier(), LogisticRegression()]\n",
        "for model in models:\n",
        "    model.fit(X_train, y_train)\n",
        "    print(f\"{model.__class__.__name__} Accuracy: {accuracy_score(y_test, model.predict(X_test))}\")\n",
        "\n",
        "# Apply PCA for dimensionality reduction (2 components for simplicity)\n",
        "pca = PCA(n_components=2)\n",
        "X_train_pca = pca.fit_transform(X_train)\n",
        "X_test_pca = pca.transform(X_test)\n",
        "\n",
        "# Train and evaluate models with PCA\n",
        "for model in models:\n",
        "    model.fit(X_train_pca, y_train)\n",
        "    print(f\"{model.__class__.__name__} with PCA Accuracy: {accuracy_score(y_test, model.predict(X_test_pca))}\")\n"
      ],
      "metadata": {
        "colab": {
          "base_uri": "https://localhost:8080/"
        },
        "id": "GUOI-ulvGXNT",
        "outputId": "29afa3a2-8952-4c62-8c83-4c11f61b1f26"
      },
      "execution_count": 15,
      "outputs": [
        {
          "output_type": "stream",
          "name": "stdout",
          "text": [
            "SVC Accuracy: 0.7821782178217822\n",
            "KNeighborsClassifier Accuracy: 0.7227722772277227\n",
            "LogisticRegression Accuracy: 0.7227722772277227\n",
            "SVC with PCA Accuracy: 0.7821782178217822\n",
            "KNeighborsClassifier with PCA Accuracy: 0.7425742574257426\n",
            "LogisticRegression with PCA Accuracy: 0.7821782178217822\n"
          ]
        },
        {
          "output_type": "stream",
          "name": "stderr",
          "text": [
            "/usr/local/lib/python3.10/dist-packages/sklearn/linear_model/_logistic.py:469: ConvergenceWarning: lbfgs failed to converge (status=1):\n",
            "STOP: TOTAL NO. of ITERATIONS REACHED LIMIT.\n",
            "\n",
            "Increase the number of iterations (max_iter) or scale the data as shown in:\n",
            "    https://scikit-learn.org/stable/modules/preprocessing.html\n",
            "Please also refer to the documentation for alternative solver options:\n",
            "    https://scikit-learn.org/stable/modules/linear_model.html#logistic-regression\n",
            "  n_iter_i = _check_optimize_result(\n"
          ]
        }
      ]
    }
  ]
}