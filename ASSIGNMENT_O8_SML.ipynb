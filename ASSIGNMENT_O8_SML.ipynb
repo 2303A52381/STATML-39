{
  "nbformat": 4,
  "nbformat_minor": 0,
  "metadata": {
    "colab": {
      "provenance": [],
      "authorship_tag": "ABX9TyPv2XUw6hfPE72XpfO3Ie+L",
      "include_colab_link": true
    },
    "kernelspec": {
      "name": "python3",
      "display_name": "Python 3"
    },
    "language_info": {
      "name": "python"
    }
  },
  "cells": [
    {
      "cell_type": "markdown",
      "metadata": {
        "id": "view-in-github",
        "colab_type": "text"
      },
      "source": [
        "<a href=\"https://colab.research.google.com/github/2303A52381/STATML-39/blob/main/ASSIGNMENT_O8_SML.ipynb\" target=\"_parent\"><img src=\"https://colab.research.google.com/assets/colab-badge.svg\" alt=\"Open In Colab\"/></a>"
      ]
    },
    {
      "cell_type": "code",
      "execution_count": 2,
      "metadata": {
        "colab": {
          "base_uri": "https://localhost:8080/"
        },
        "id": "mTC-F2xtjzbY",
        "outputId": "9bec4970-10f6-4a2f-a8cf-3da7d98db148"
      },
      "outputs": [
        {
          "output_type": "stream",
          "name": "stdout",
          "text": [
            "Dataset:\n",
            "   X1  X2  X3  X4   X5  Pass/Fail\n",
            "0  10  90  85   1  100          1\n",
            "1   5  60  70   0   80          0\n",
            "2  15  95  90   1  100          1\n",
            "3   2  30  50   0   40          0\n",
            "4  12  85  88   1   90          1\n",
            "5   8  75  65   0   70          0\n",
            "6  14  92  93   1   95          1\n",
            "7   3  50  55   0   60          0\n",
            "8  11  88  80   1   85          1\n",
            "9   6  65  60   0   75          0\n",
            "\n",
            "Summary Statistics:\n",
            "              X1         X2         X3         X4         X5  Pass/Fail\n",
            "count  10.000000  10.000000  10.000000  10.000000   10.00000  10.000000\n",
            "mean    8.600000  73.000000  73.600000   0.500000   79.50000   0.500000\n",
            "std     4.526465  21.390548  15.629033   0.527046   19.06859   0.527046\n",
            "min     2.000000  30.000000  50.000000   0.000000   40.00000   0.000000\n",
            "25%     5.250000  61.250000  61.250000   0.000000   71.25000   0.000000\n",
            "50%     9.000000  80.000000  75.000000   0.500000   82.50000   0.500000\n",
            "75%    11.750000  89.500000  87.250000   1.000000   93.75000   1.000000\n",
            "max    15.000000  95.000000  93.000000   1.000000  100.00000   1.000000\n",
            "\n",
            "Target Variable Distribution:\n",
            "Pass/Fail\n",
            "1    5\n",
            "0    5\n",
            "Name: count, dtype: int64\n",
            "\n",
            "Classification Report:\n",
            "              precision    recall  f1-score   support\n",
            "\n",
            "           0       1.00      1.00      1.00         1\n",
            "           1       1.00      1.00      1.00         1\n",
            "\n",
            "    accuracy                           1.00         2\n",
            "   macro avg       1.00      1.00      1.00         2\n",
            "weighted avg       1.00      1.00      1.00         2\n",
            "\n"
          ]
        }
      ],
      "source": [
        "import pandas as pd\n",
        "from sklearn.model_selection import train_test_split\n",
        "from sklearn.linear_model import LogisticRegression\n",
        "from sklearn.metrics import classification_report\n",
        "\n",
        "# Step 1: Create the dataset\n",
        "data = {\n",
        "     'X1': [10, 5, 15, 2, 12, 8, 14, 3, 11, 6],\n",
        "     'X2': [90, 60, 95, 30, 85, 75, 92, 50, 88, 65],\n",
        "     'X3': [85, 70, 90, 50, 88, 65, 93, 55, 80, 60],\n",
        "     'X4': [1, 0, 1, 0, 1, 0, 1, 0, 1, 0],\n",
        "     'X5': [100, 80, 100, 40, 90, 70, 95, 60, 85, 75],\n",
        "     'Pass/Fail': [1, 0, 1, 0, 1, 0, 1, 0, 1, 0]\n",
        "}\n",
        "\n",
        "df = pd.DataFrame(data)\n",
        "\n",
        "# Step 2: Display the dataframe\n",
        "print(\"Dataset:\")\n",
        "print(df)\n",
        "\n",
        "# Step 3: Summary statistics\n",
        "print(\"\\nSummary Statistics:\")\n",
        "print(df.describe())\n",
        "\n",
        "# Step 4: Check the distribution of the target variable\n",
        "print(\"\\nTarget Variable Distribution:\")\n",
        "print(df['Pass/Fail'].value_counts())\n",
        "\n",
        "# Step 5: Split the data into features and target\n",
        "X = df.drop('Pass/Fail', axis=1)\n",
        "y = df['Pass/Fail']\n",
        "\n",
        "# Step 6: Split into training and testing sets\n",
        "X_train, X_test, y_train, y_test = train_test_split(X, y, test_size=0.2, random_state=42)\n",
        "\n",
        "# Step 7: Initialize and fit the model\n",
        "model = LogisticRegression()\n",
        "model.fit(X_train, y_train)\n",
        "\n",
        "# Step 8: Make predictions\n",
        "y_pred = model.predict(X_test)\n",
        "\n",
        "# Step 9: Evaluate the model\n",
        "print(\"\\nClassification Report:\")\n",
        "print(classification_report(y_test, y_pred))\n"
      ]
    }
  ]
}